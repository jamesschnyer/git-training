{
 "cells": [
  {
   "cell_type": "code",
   "execution_count": 28,
   "metadata": {},
   "outputs": [
    {
     "output_type": "stream",
     "name": "stdout",
     "text": "13 is a prime number!\n"
    }
   ],
   "source": [
    "number = input(\"Please enter a number : \")\n",
    "num = int(number)\n",
    "if num>1:\n",
    "    if number.isdigit :\n",
    "        for i in range(2, num):\n",
    "            if num%i==0:\n",
    "                print(number, \"is not a prime number!\")\n",
    "                break\n",
    "        else:\n",
    "                print(number, \"is a prime number!\")"
   ]
  },
  {
   "cell_type": "code",
   "execution_count": null,
   "metadata": {},
   "outputs": [],
   "source": []
  }
 ],
 "metadata": {
  "language_info": {
   "codemirror_mode": {
    "name": "ipython",
    "version": 3
   },
   "file_extension": ".py",
   "mimetype": "text/x-python",
   "name": "python",
   "nbconvert_exporter": "python",
   "pygments_lexer": "ipython3",
   "version": "3.8.2-final"
  },
  "orig_nbformat": 2,
  "kernelspec": {
   "name": "python38232bitff82544d2ecb4e80a1483aadb68a595f",
   "display_name": "Python 3.8.2 32-bit"
  }
 },
 "nbformat": 4,
 "nbformat_minor": 2
}