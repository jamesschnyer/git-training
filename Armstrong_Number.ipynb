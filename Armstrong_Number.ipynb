{
 "cells": [
  {
   "cell_type": "code",
   "execution_count": 85,
   "metadata": {},
   "outputs": [
    {
     "output_type": "stream",
     "name": "stdout",
     "text": "54748 is an Armstrong number\n"
    }
   ],
   "source": [
    "number = input(\"Enter a number: \")\n",
    "toplam = 0 \n",
    "a = len(number)\n",
    "num = int(number)\n",
    "degisken = num  \n",
    "while degisken > 0:  \n",
    "   sonrakam = degisken % 10  \n",
    "   toplam += sonrakam ** a  \n",
    "   degisken //= 10  \n",
    "  \n",
    "if num == toplam:  \n",
    "   print(num,\"is an Armstrong number\")  \n",
    "else:  \n",
    "   print(num,\"is not an Armstrong number\") "
   ]
  }
 ],
 "metadata": {
  "language_info": {
   "codemirror_mode": {
    "name": "ipython",
    "version": 3
   },
   "file_extension": ".py",
   "mimetype": "text/x-python",
   "name": "python",
   "nbconvert_exporter": "python",
   "pygments_lexer": "ipython3",
   "version": "3.8.2-final"
  },
  "orig_nbformat": 2,
  "kernelspec": {
   "name": "python38232bitff82544d2ecb4e80a1483aadb68a595f",
   "display_name": "Python 3.8.2 32-bit"
  }
 },
 "nbformat": 4,
 "nbformat_minor": 2
}